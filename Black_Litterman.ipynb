{
 "cells": [
  {
   "cell_type": "code",
   "execution_count": 78,
   "metadata": {},
   "outputs": [],
   "source": [
    "#현금 추가\n",
    "tickers = ['코스피200', '해외채권', '원유', 'STOXX50', 'S&P500', '국내우량회사채', 'US Short']\n",
    "tickers.append(\"현금\")\n",
    "#2020.11본원통화량을 시총으로 대입\n",
    "caps.append(217700000000000)\n",
    "#소비자물가지수에 의한 화폐가치 변화(직접적으로 알 수 있는 방법은 없음.) *영업일\n",
    "price=[1.002]*19+[1.000]*22+[1.006]*23+[1.007]*20+[0.994]*21+[0.999]*19+[1.002]*21+[1.008]*22+[1.005]*20+[1.001]*18+[1.002]*22+[1.002]*21\n",
    "prices.append(price) "
   ]
  },
  {
   "cell_type": "code",
   "execution_count": 16,
   "metadata": {},
   "outputs": [],
   "source": [
    "%matplotlib inline\n",
    "import matplotlib.pylab as plt\n",
    "import numpy as np\n",
    "from numpy.linalg import inv\n",
    "import pandas as pd\n",
    "from pandas_datareader import data as web\n",
    "from scipy.optimize import minimize\n",
    "from pykrx import stock"
   ]
  },
  {
   "cell_type": "code",
   "execution_count": 161,
   "metadata": {},
   "outputs": [],
   "source": [
    "# 무위험수익률, 수익률,공분산으로\n",
    "# 샤프비율을 최대로 하는 접점포트폴리오 비중 계산 \n",
    "def solveWeights(R, C, rf):\n",
    "    \n",
    "    # 파이썬은 함수안에 함수를 정의할 수 있다\n",
    "    # 최적비중계산을 위해 다음과 같이 목적함수를 정의한다\n",
    "    def obj(W, R, C, rf):\n",
    "        mean = sum(R * W)\n",
    "        var = np.dot(np.dot(W, C), W)\n",
    "        #샤프비율을 효용함수로 한다\n",
    "        util = (mean - rf) / np.sqrt(var) \n",
    "        # 효용함수 극대화= 효용함수 역함수를 최소화하는 것이다.\n",
    "        return 1 / util  \n",
    "\n",
    "    n = len(R)  # 투자자산 갯수\n",
    "\n",
    "    # 동일비중으로 최적화 시작\n",
    "    W = np.ones([n]) / n  \n",
    "    # 비중범위는 0~100%사이(공매도나 차입조건이 없음)\n",
    "    bnds = [(0., 1.) for i in range(n)]  \n",
    "    # 제약조건은 비중합=100%\n",
    "    cons = ({'type': 'eq', 'fun': lambda W: sum(W) - 1.}) \n",
    "    # 최적화\n",
    "    res = minimize(obj, W, (R, C, rf), method='SLSQP', constraints=cons, bounds=bnds)\n",
    "    if not res.success:\n",
    "      # 최적화 실패한 경우 \n",
    "      raise BaseException(res.message)\n",
    "    # 최적화 결과를 돌려준다  \n",
    "    return res.x"
   ]
  },
  {
   "cell_type": "code",
   "execution_count": 150,
   "metadata": {},
   "outputs": [],
   "source": [
    "# 무위험수익률, 수익률,공분산으로 효율적 프런티어 계산\n",
    "def solveFrontier(R, C, rf):\n",
    "\n",
    "    # 파이썬은 함수안에 함수를 정의할 수 있다\n",
    "    # 최적비중계산을 위해 다음과 같이 목적함수를 정의한다\n",
    "    def obj(W, R, C, r):\n",
    "        # 주어진 수익률에서 분산을 최소로 하는 비중 계산\n",
    "        mean = sum(R * W)\n",
    "        var = np.dot(np.dot(W, C), W)\n",
    "        # 최적화 제약조건 페널티\n",
    "        penalty = 100 * abs(mean - r)             \n",
    "        return var + penalty\n",
    "\n",
    "    # 효율적 프론티어를 구성하는 평균-분산을 돌려줄\n",
    "    # 리스트를 미리 준비한다\n",
    "    frontier_mean, frontier_var = [], []\n",
    "\n",
    "    n = len(R)  # 투자자산 갯수\n",
    "\n",
    "    # 수익률 최저~최대 사이를 반복한다\n",
    "    for r in np.linspace(min(R), max(R), num=20):\n",
    "        # 최적화 함수에 전달할 초기값으로 동일비중으로 시작한다\n",
    "        W = np.ones([n]) / n \n",
    "\n",
    "        # 최적화 함수에 전달할 범위조건과 제약조건을 미리 준비한다\n",
    "        # 범위조건: 각 구성자산의 투자비중은 0~100% 사이이며\n",
    "        # 제약조건: 전체 투자비중은 100%이다.\n",
    "        bnds = [(0, 1) for i in range(n)]\n",
    "        cons = ({'type': 'eq', 'fun': lambda W: sum(W) - 1.})\n",
    "        \n",
    "        # 최적화 함수 minimize()은 최적화할 obj함수와 \n",
    "        # 최적화를 시작할 초깃값을 인수로 받는다.         \n",
    "        res = minimize(obj, W, (R, C, r), method='SLSQP', constraints=cons, bounds=bnds)\n",
    "        if not res.success:\n",
    "            # 최적화에 실패한 경우\n",
    "            raise BaseException(res.message)\n",
    "        \n",
    "        # 효율적 프런티어 평균과 분산리스트에 \n",
    "        # 최적포트폴리오 수익률과 분산 추가\n",
    "        frontier_mean.append(r)\n",
    "        frontier_var.append(np.dot(np.dot(res.x, C), res.x))\n",
    "    return np.array(frontier_mean), np.array(frontier_var)"
   ]
  },
  {
   "cell_type": "code",
   "execution_count": 151,
   "metadata": {},
   "outputs": [],
   "source": [
    "# 효율적 포트폴리오 최적화        \n",
    "def optimize_frontier(R, C, rf):\n",
    "\n",
    "    # 접점포트폴리오 계산\n",
    "    W = solveWeights(R, C, rf)\n",
    "    # 투자비중으로 계산한 평균과 분산\n",
    "    tan_mean = sum(R * W)\n",
    "    tan_var = np.dot(np.dot(W, C), W)    \n",
    "\n",
    "    # 효율적 포트폴리오 계산\n",
    "    eff_mean, eff_var = solveFrontier(R, C, rf)\n",
    "\n",
    "    # 비중, 접점포트폴리오의 평균/분산, 효율적 포트폴리오의 평균/분산을\n",
    "    # 딕셔너리 데이터형으로 돌려준다    \n",
    "    return {'weights':W, 'tan_mean':tan_mean, 'tan_var':tan_var, 'eff_mean':eff_mean, 'eff_var':eff_var}"
   ]
  },
  {
   "cell_type": "code",
   "execution_count": 152,
   "metadata": {},
   "outputs": [],
   "source": [
    "# 자산에 대한 투자자의 전망과 전망의 기대수익률을 행렬로 만든다\n",
    "def CreateMatrixPQ(names, views):\n",
    "    r, c = len(views), len(names)\n",
    "\n",
    "    # 투자전망과 기대수익률 행렬\n",
    "    # views[i][3]에는 기대수익률을 가리킴\n",
    "    Q = [views[i][3] for i in range(r)]     \n",
    "\n",
    "    # 전망행렬 P를 만들기 위해\n",
    "    # 구성자산 딕셔너리 작성\n",
    "    nameToIndex = dict()    \n",
    "    for i, n in enumerate(names):\n",
    "        nameToIndex[n] = i\n",
    "\n",
    "    # 투자전망 \n",
    "    P = np.zeros([r, c]) \n",
    "    for i, v in enumerate(views):\n",
    "        # 가령 전망이 ('MSFT', '>', 'GE', 0.02) 이라면\n",
    "        # views[i][0] <-- 'MSFT' --> name1\n",
    "        # views[i][1] <-- '>'\n",
    "        # views[i][2] <-- 'GE'   --> name2\n",
    "        # views[i][3] <-- '0.02'\n",
    "        name1, name2 = views[i][0], views[i][2]\n",
    "        P[i, nameToIndex[name1]] = +1 if views[i][1] == '>' else -1\n",
    "        P[i, nameToIndex[name2]] = -1 if views[i][1] == '>' else +1\n",
    "    return np.array(Q), P\n"
   ]
  },
  {
   "cell_type": "code",
   "execution_count": 153,
   "metadata": {},
   "outputs": [
    {
     "ename": "SyntaxError",
     "evalue": "invalid syntax (<ipython-input-153-18595803b046>, line 1)",
     "output_type": "error",
     "traceback": [
      "\u001b[0;36m  File \u001b[0;32m\"<ipython-input-153-18595803b046>\"\u001b[0;36m, line \u001b[0;32m1\u001b[0m\n\u001b[0;31m    ---수정할 부분\u001b[0m\n\u001b[0m            ^\u001b[0m\n\u001b[0;31mSyntaxError\u001b[0m\u001b[0;31m:\u001b[0m invalid syntax\n"
     ]
    }
   ],
   "source": [
    "---수정할 부분"
   ]
  },
  {
   "cell_type": "code",
   "execution_count": 205,
   "metadata": {},
   "outputs": [],
   "source": [
    "#단위 : 백만\n",
    "#코스피200, 해외채권, 원유, STOXX50, S&P500, 국내우량회사채, US Short\n",
    "tickers=['069500','182490','130680','195930','143850','136340','139660']\n",
    "cap = {'069500':1980543000,'182490':7973560575,'130680':1884994000,\n",
    "       '195930':13129426738,'143850':29087386767,'136340':380000000,\n",
    "       '139660':30925400\n",
    "      }\n",
    "prices, caps = [], []\n",
    "\n",
    "for s in tickers:    \n",
    "    pxclose = stock.get_market_ohlcv_by_date(\"20200501\",\"20210501\",s)['종가'].to_list()\n",
    "    prices.append(pxclose)  \n",
    "    caps.append(cap[s])"
   ]
  },
  {
   "cell_type": "code",
   "execution_count": 206,
   "metadata": {},
   "outputs": [],
   "source": [
    "n = len(tickers)\n",
    "W = np.array(caps) / sum(caps) # 시가총액의 비율계산\n",
    "prices = np.matrix(prices)  # prices를 numpy matrix로 변환\n",
    "\n",
    "# 수익률 행렬을 만들어 계산\n",
    "rows, cols = prices.shape\n",
    "returns = np.empty([rows, cols - 1])\n",
    "for r in range(rows):\n",
    "    for c in range(cols - 1):\n",
    "        p0, p1 = prices[r, c], prices[r, c + 1]\n",
    "        returns[r, c] = (p1 / p0) - 1\n",
    "\n",
    "# 수익률계산\n",
    "expreturns = np.array([])\n",
    "for r in range(rows):\n",
    "    expreturns = np.append(expreturns, np.mean(returns[r]))\n",
    "\n",
    "# 공분산계산\n",
    "covars = np.cov(returns)\n",
    "R = (1 + expreturns) ** 250 - 1  # 연율화\n",
    "C = covars * 250  # 연율화\n",
    "\n",
    "# 무위험 이자율 (미국채 10년물)\n",
    "rf = .0158"
   ]
  },
  {
   "cell_type": "code",
   "execution_count": 207,
   "metadata": {},
   "outputs": [
    {
     "data": {
      "text/plain": [
       "11840.09"
      ]
     },
     "execution_count": 207,
     "metadata": {},
     "output_type": "execute_result"
    }
   ],
   "source": [
    "2284.11+5443.94+2001.60+2110.44"
   ]
  },
  {
   "cell_type": "code",
   "execution_count": 208,
   "metadata": {},
   "outputs": [
    {
     "data": {
      "text/html": [
       "<div>\n",
       "<style scoped>\n",
       "    .dataframe tbody tr th:only-of-type {\n",
       "        vertical-align: middle;\n",
       "    }\n",
       "\n",
       "    .dataframe tbody tr th {\n",
       "        vertical-align: top;\n",
       "    }\n",
       "\n",
       "    .dataframe thead th {\n",
       "        text-align: right;\n",
       "    }\n",
       "</style>\n",
       "<table border=\"1\" class=\"dataframe\">\n",
       "  <thead>\n",
       "    <tr style=\"text-align: right;\">\n",
       "      <th></th>\n",
       "      <th>코스피200</th>\n",
       "      <th>해외채권</th>\n",
       "      <th>원유</th>\n",
       "      <th>STOXX50</th>\n",
       "      <th>S&amp;P500</th>\n",
       "      <th>국내우량회사채</th>\n",
       "      <th>US Short</th>\n",
       "    </tr>\n",
       "  </thead>\n",
       "  <tbody>\n",
       "    <tr>\n",
       "      <th>Return</th>\n",
       "      <td>77.44%</td>\n",
       "      <td>15.37%</td>\n",
       "      <td>126.70%</td>\n",
       "      <td>43.50%</td>\n",
       "      <td>53.60%</td>\n",
       "      <td>2.04%</td>\n",
       "      <td>9.87%</td>\n",
       "    </tr>\n",
       "    <tr>\n",
       "      <th>Weight (based on market cap)</th>\n",
       "      <td>3.64%</td>\n",
       "      <td>14.64%</td>\n",
       "      <td>3.46%</td>\n",
       "      <td>24.11%</td>\n",
       "      <td>53.40%</td>\n",
       "      <td>0.70%</td>\n",
       "      <td>0.06%</td>\n",
       "    </tr>\n",
       "  </tbody>\n",
       "</table>\n",
       "</div>"
      ],
      "text/plain": [
       "                              코스피200   해외채권      원유  STOXX50  S&P500  국내우량회사채  \\\n",
       "Return                        77.44% 15.37% 126.70%   43.50%  53.60%    2.04%   \n",
       "Weight (based on market cap)   3.64% 14.64%   3.46%   24.11%  53.40%    0.70%   \n",
       "\n",
       "                              US Short  \n",
       "Return                           9.87%  \n",
       "Weight (based on market cap)     0.06%  "
      ]
     },
     "metadata": {},
     "output_type": "display_data"
    }
   ],
   "source": [
    "#수익률과 시총가중치\n",
    "tickers = ['코스피200', '해외채권', '원유', 'STOXX50', 'S&P500', '국내우량회사채', 'US Short']\n",
    "display(pd.DataFrame({'Return': R, 'Weight (based on market cap)': W}, index=tickers).T)"
   ]
  },
  {
   "cell_type": "code",
   "execution_count": 209,
   "metadata": {
    "scrolled": false
   },
   "outputs": [
    {
     "data": {
      "text/html": [
       "<div>\n",
       "<style scoped>\n",
       "    .dataframe tbody tr th:only-of-type {\n",
       "        vertical-align: middle;\n",
       "    }\n",
       "\n",
       "    .dataframe tbody tr th {\n",
       "        vertical-align: top;\n",
       "    }\n",
       "\n",
       "    .dataframe thead th {\n",
       "        text-align: right;\n",
       "    }\n",
       "</style>\n",
       "<table border=\"1\" class=\"dataframe\">\n",
       "  <thead>\n",
       "    <tr style=\"text-align: right;\">\n",
       "      <th></th>\n",
       "      <th>코스피200</th>\n",
       "      <th>해외채권</th>\n",
       "      <th>원유</th>\n",
       "      <th>STOXX50</th>\n",
       "      <th>S&amp;P500</th>\n",
       "      <th>국내우량회사채</th>\n",
       "      <th>US Short</th>\n",
       "    </tr>\n",
       "  </thead>\n",
       "  <tbody>\n",
       "    <tr>\n",
       "      <th>코스피200</th>\n",
       "      <td>4.49%</td>\n",
       "      <td>0.23%</td>\n",
       "      <td>3.03%</td>\n",
       "      <td>2.30%</td>\n",
       "      <td>2.61%</td>\n",
       "      <td>0.01%</td>\n",
       "      <td>0.74%</td>\n",
       "    </tr>\n",
       "    <tr>\n",
       "      <th>해외채권</th>\n",
       "      <td>0.23%</td>\n",
       "      <td>0.37%</td>\n",
       "      <td>0.26%</td>\n",
       "      <td>0.38%</td>\n",
       "      <td>0.25%</td>\n",
       "      <td>-0.00%</td>\n",
       "      <td>0.03%</td>\n",
       "    </tr>\n",
       "    <tr>\n",
       "      <th>원유</th>\n",
       "      <td>3.03%</td>\n",
       "      <td>0.26%</td>\n",
       "      <td>12.90%</td>\n",
       "      <td>2.96%</td>\n",
       "      <td>3.43%</td>\n",
       "      <td>-0.03%</td>\n",
       "      <td>0.78%</td>\n",
       "    </tr>\n",
       "    <tr>\n",
       "      <th>STOXX50</th>\n",
       "      <td>2.30%</td>\n",
       "      <td>0.38%</td>\n",
       "      <td>2.96%</td>\n",
       "      <td>3.77%</td>\n",
       "      <td>2.54%</td>\n",
       "      <td>0.00%</td>\n",
       "      <td>0.46%</td>\n",
       "    </tr>\n",
       "    <tr>\n",
       "      <th>S&amp;P500</th>\n",
       "      <td>2.61%</td>\n",
       "      <td>0.25%</td>\n",
       "      <td>3.43%</td>\n",
       "      <td>2.54%</td>\n",
       "      <td>3.50%</td>\n",
       "      <td>0.01%</td>\n",
       "      <td>0.57%</td>\n",
       "    </tr>\n",
       "    <tr>\n",
       "      <th>국내우량회사채</th>\n",
       "      <td>0.01%</td>\n",
       "      <td>-0.00%</td>\n",
       "      <td>-0.03%</td>\n",
       "      <td>0.00%</td>\n",
       "      <td>0.01%</td>\n",
       "      <td>0.01%</td>\n",
       "      <td>-0.00%</td>\n",
       "    </tr>\n",
       "    <tr>\n",
       "      <th>US Short</th>\n",
       "      <td>0.74%</td>\n",
       "      <td>0.03%</td>\n",
       "      <td>0.78%</td>\n",
       "      <td>0.46%</td>\n",
       "      <td>0.57%</td>\n",
       "      <td>-0.00%</td>\n",
       "      <td>0.41%</td>\n",
       "    </tr>\n",
       "  </tbody>\n",
       "</table>\n",
       "</div>"
      ],
      "text/plain": [
       "          코스피200   해외채권     원유  STOXX50  S&P500  국내우량회사채  US Short\n",
       "코스피200     4.49%  0.23%  3.03%    2.30%   2.61%    0.01%     0.74%\n",
       "해외채권       0.23%  0.37%  0.26%    0.38%   0.25%   -0.00%     0.03%\n",
       "원유         3.03%  0.26% 12.90%    2.96%   3.43%   -0.03%     0.78%\n",
       "STOXX50    2.30%  0.38%  2.96%    3.77%   2.54%    0.00%     0.46%\n",
       "S&P500     2.61%  0.25%  3.43%    2.54%   3.50%    0.01%     0.57%\n",
       "국내우량회사채    0.01% -0.00% -0.03%    0.00%   0.01%    0.01%    -0.00%\n",
       "US Short   0.74%  0.03%  0.78%    0.46%   0.57%   -0.00%     0.41%"
      ]
     },
     "metadata": {},
     "output_type": "display_data"
    }
   ],
   "source": [
    "#공분산\n",
    "display(pd.DataFrame(C, columns=tickers, index=tickers))"
   ]
  },
  {
   "cell_type": "code",
   "execution_count": 210,
   "metadata": {},
   "outputs": [],
   "source": [
    "# 1. 과거 데이터를 이용한 최적화\n",
    "opt1 = optimize_frontier(R, C, rf)"
   ]
  },
  {
   "cell_type": "code",
   "execution_count": 211,
   "metadata": {},
   "outputs": [],
   "source": [
    "# 2. 블랙-리터만 역최적화\n",
    "# 포트폴리오 수익률 평균 및 분산\n",
    "mean = sum(R * W)\n",
    "var = np.dot(np.dot(W, C), W)\n",
    "\n",
    "# lmbda: 위험회피계수 \n",
    "lmbda = (mean - rf) / var  \n",
    "\n",
    "# pi: 균형초과수익률\n",
    "pi = np.dot(np.dot(lmbda, C), W)"
   ]
  },
  {
   "cell_type": "code",
   "execution_count": 212,
   "metadata": {},
   "outputs": [],
   "source": [
    "#3. 균형기대수익률로 최적화 (총내재수익률 + 무위험수익률)\n",
    "opt2 = optimize_frontier(pi+rf, C, rf)"
   ]
  },
  {
   "cell_type": "code",
   "execution_count": 288,
   "metadata": {},
   "outputs": [],
   "source": [
    "#투자자 전망과 기대수익률 그리고 전망의 불확실성 계산\n",
    "#view: 투자자 전망행렬 n=7, k=7\n",
    "#절대적 전망: STOXX50, S&P500, WTI, KOSPI -> 1달뒤의 예상수익률\n",
    "#상대적 전망: 시총고려, 선호순위 최대한 반영\n",
    "\n",
    "Q = np.array([0.0025,\n",
    "     0.0294,\n",
    "     0.0138,\n",
    "     0.0135,\n",
    "     0.0065,\n",
    "     0.0100,\n",
    "     0.0100,\n",
    "     0.0121])\n",
    "P = np.array([[0., 1., 0., 0., 0., 0., 0.],\n",
    "     [0, 0, 1, 0, 0, 0, 0],\n",
    "     [0, 0, 0, 1, 0, 0, 0],\n",
    "     [0, 0, 0, 0, 1, 0, 0],\n",
    "     [0, 0, 0, 0, 0, 0, 1],\n",
    "     [0, 0, -1, 0.4, 0.6, 0, 0],\n",
    "     [-1, 0, 1, 0, 0, 0, 0],\n",
    "     [1, 0, 0, 0, 0, 0, 0]])\n",
    "\n",
    "# 위험조정상수 1/12\n",
    "tau = .0833  \n",
    "\n",
    "# 투자자 전망의 불확실성 계산\n",
    "# tau * P * C * transpose(P)\n",
    "omega = np.dot(np.dot(np.dot(tau, P), C), np.transpose(P))"
   ]
  },
  {
   "cell_type": "code",
   "execution_count": 289,
   "metadata": {},
   "outputs": [
    {
     "data": {
      "text/plain": [
       "(8, 7)"
      ]
     },
     "execution_count": 289,
     "metadata": {},
     "output_type": "execute_result"
    }
   ],
   "source": [
    "P.shape"
   ]
  },
  {
   "cell_type": "code",
   "execution_count": 282,
   "metadata": {},
   "outputs": [
    {
     "ename": "IndentationError",
     "evalue": "unexpected indent (<ipython-input-282-cca5dcd9e20a>, line 6)",
     "output_type": "error",
     "traceback": [
      "\u001b[0;36m  File \u001b[0;32m\"<ipython-input-282-cca5dcd9e20a>\"\u001b[0;36m, line \u001b[0;32m6\u001b[0m\n\u001b[0;31m    0.0100,\u001b[0m\n\u001b[0m    ^\u001b[0m\n\u001b[0;31mIndentationError\u001b[0m\u001b[0;31m:\u001b[0m unexpected indent\n"
     ]
    }
   ],
   "source": [
    "print(P.shape)\n",
    "0.0100\n",
    "[-1, 0, 1, 0, 0, 0, 0]\n",
    "\n",
    "\n",
    "    0.0100,\n",
    "    [0, 0, -1, 0.4, 0.6, 0, 0]"
   ]
  },
  {
   "cell_type": "code",
   "execution_count": 290,
   "metadata": {
    "scrolled": false
   },
   "outputs": [],
   "source": [
    "# 투자자 전망과 합쳐진 균형초과수익률 계산\n",
    "bl1 = inv(np.dot(tau, C))\n",
    "bl2 = np.dot(np.dot(np.transpose(P), inv(omega)), P)\n",
    "bl3 = np.dot(inv(np.dot(tau, C)), pi)\n",
    "bl4 = np.dot(np.dot(np.transpose(P), inv(omega)), Q)\n",
    "pi_adj = np.dot(inv(bl1 + bl2), (bl3 + bl4))\n"
   ]
  },
  {
   "cell_type": "code",
   "execution_count": 291,
   "metadata": {},
   "outputs": [],
   "source": [
    "opt3 = optimize_frontier(pi_adj + rf, C, rf)"
   ]
  },
  {
   "cell_type": "code",
   "execution_count": 292,
   "metadata": {},
   "outputs": [
    {
     "data": {
      "text/html": [
       "<h2>Historical returns</h2>"
      ],
      "text/plain": [
       "<IPython.core.display.HTML object>"
      ]
     },
     "metadata": {},
     "output_type": "display_data"
    },
    {
     "data": {
      "text/html": [
       "<div>\n",
       "<style scoped>\n",
       "    .dataframe tbody tr th:only-of-type {\n",
       "        vertical-align: middle;\n",
       "    }\n",
       "\n",
       "    .dataframe tbody tr th {\n",
       "        vertical-align: top;\n",
       "    }\n",
       "\n",
       "    .dataframe thead th {\n",
       "        text-align: right;\n",
       "    }\n",
       "</style>\n",
       "<table border=\"1\" class=\"dataframe\">\n",
       "  <thead>\n",
       "    <tr style=\"text-align: right;\">\n",
       "      <th></th>\n",
       "      <th>코스피200</th>\n",
       "      <th>해외채권</th>\n",
       "      <th>원유</th>\n",
       "      <th>STOXX50</th>\n",
       "      <th>S&amp;P500</th>\n",
       "      <th>국내우량회사채</th>\n",
       "      <th>US Short</th>\n",
       "    </tr>\n",
       "  </thead>\n",
       "  <tbody>\n",
       "    <tr>\n",
       "      <th>Weight</th>\n",
       "      <td>9.54%</td>\n",
       "      <td>23.36%</td>\n",
       "      <td>6.05%</td>\n",
       "      <td>0.00%</td>\n",
       "      <td>0.00%</td>\n",
       "      <td>61.05%</td>\n",
       "      <td>0.00%</td>\n",
       "    </tr>\n",
       "  </tbody>\n",
       "</table>\n",
       "</div>"
      ],
      "text/plain": [
       "        코스피200   해외채권    원유  STOXX50  S&P500  국내우량회사채  US Short\n",
       "Weight   9.54% 23.36% 6.05%    0.00%   0.00%   61.05%     0.00%"
      ]
     },
     "metadata": {},
     "output_type": "display_data"
    },
    {
     "data": {
      "text/html": [
       "<h2>Implied returns</h2>"
      ],
      "text/plain": [
       "<IPython.core.display.HTML object>"
      ]
     },
     "metadata": {},
     "output_type": "display_data"
    },
    {
     "data": {
      "text/html": [
       "<div>\n",
       "<style scoped>\n",
       "    .dataframe tbody tr th:only-of-type {\n",
       "        vertical-align: middle;\n",
       "    }\n",
       "\n",
       "    .dataframe tbody tr th {\n",
       "        vertical-align: top;\n",
       "    }\n",
       "\n",
       "    .dataframe thead th {\n",
       "        text-align: right;\n",
       "    }\n",
       "</style>\n",
       "<table border=\"1\" class=\"dataframe\">\n",
       "  <thead>\n",
       "    <tr style=\"text-align: right;\">\n",
       "      <th></th>\n",
       "      <th>코스피200</th>\n",
       "      <th>해외채권</th>\n",
       "      <th>원유</th>\n",
       "      <th>STOXX50</th>\n",
       "      <th>S&amp;P500</th>\n",
       "      <th>국내우량회사채</th>\n",
       "      <th>US Short</th>\n",
       "    </tr>\n",
       "  </thead>\n",
       "  <tbody>\n",
       "    <tr>\n",
       "      <th>Weight</th>\n",
       "      <td>3.28%</td>\n",
       "      <td>12.49%</td>\n",
       "      <td>3.05%</td>\n",
       "      <td>20.98%</td>\n",
       "      <td>46.26%</td>\n",
       "      <td>13.92%</td>\n",
       "      <td>0.01%</td>\n",
       "    </tr>\n",
       "  </tbody>\n",
       "</table>\n",
       "</div>"
      ],
      "text/plain": [
       "        코스피200   해외채권    원유  STOXX50  S&P500  국내우량회사채  US Short\n",
       "Weight   3.28% 12.49% 3.05%   20.98%  46.26%   13.92%     0.01%"
      ]
     },
     "metadata": {},
     "output_type": "display_data"
    },
    {
     "data": {
      "text/html": [
       "<h2>Implied returns with adjusted views</h2>"
      ],
      "text/plain": [
       "<IPython.core.display.HTML object>"
      ]
     },
     "metadata": {},
     "output_type": "display_data"
    },
    {
     "data": {
      "text/html": [
       "<div>\n",
       "<style scoped>\n",
       "    .dataframe tbody tr th:only-of-type {\n",
       "        vertical-align: middle;\n",
       "    }\n",
       "\n",
       "    .dataframe tbody tr th {\n",
       "        vertical-align: top;\n",
       "    }\n",
       "\n",
       "    .dataframe thead th {\n",
       "        text-align: right;\n",
       "    }\n",
       "</style>\n",
       "<table border=\"1\" class=\"dataframe\">\n",
       "  <thead>\n",
       "    <tr style=\"text-align: right;\">\n",
       "      <th></th>\n",
       "      <th>코스피200</th>\n",
       "      <th>해외채권</th>\n",
       "      <th>원유</th>\n",
       "      <th>STOXX50</th>\n",
       "      <th>S&amp;P500</th>\n",
       "      <th>국내우량회사채</th>\n",
       "      <th>US Short</th>\n",
       "    </tr>\n",
       "  </thead>\n",
       "  <tbody>\n",
       "    <tr>\n",
       "      <th>Weight</th>\n",
       "      <td>27.82%</td>\n",
       "      <td>0.00%</td>\n",
       "      <td>29.07%</td>\n",
       "      <td>3.82%</td>\n",
       "      <td>24.30%</td>\n",
       "      <td>14.99%</td>\n",
       "      <td>0.00%</td>\n",
       "    </tr>\n",
       "  </tbody>\n",
       "</table>\n",
       "</div>"
      ],
      "text/plain": [
       "        코스피200  해외채권     원유  STOXX50  S&P500  국내우량회사채  US Short\n",
       "Weight  27.82% 0.00% 29.07%    3.82%  24.30%   14.99%     0.00%"
      ]
     },
     "metadata": {},
     "output_type": "display_data"
    }
   ],
   "source": [
    "from IPython.core.display import display, HTML\n",
    "pd.options.display.float_format = '{:.2%}'.format\n",
    "\n",
    "# 1번째 최적화 결과\n",
    "display(HTML('<h2>Historical returns</h2>'))\n",
    "display(pd.DataFrame({'Weight': opt1['weights']}, index=tickers).T)\n",
    "\n",
    "# 2번째 최적화 결과\n",
    "display(HTML('<h2>Implied returns</h2>'))\n",
    "display(pd.DataFrame({'Weight': opt2['weights']}, index=tickers).T)\n",
    "\n",
    "# 3번째 최적화 결과\n",
    "display(HTML('<h2>Implied returns with adjusted views</h2>'))\n",
    "display(pd.DataFrame({'Weight': opt3['weights']}, index=tickers).T)"
   ]
  },
  {
   "cell_type": "code",
   "execution_count": 293,
   "metadata": {},
   "outputs": [],
   "source": [
    "def plotAssets(tickers, R, C, color='black'):\n",
    "    # 포트폴리오 구성자산 출력\n",
    "    plt.scatter([C[i, i] ** .5 for i in range(n)], R, marker='x', color=color)  \n",
    "    for i in range(n): \n",
    "        plt.text(C[i, i] ** .5, R[i], '  %s' % tickers[i], verticalalignment='center', color=color) \n",
    "\n",
    "def plotFrontier(result, label=None, color='black'):\n",
    "    # 최적화된 효율적 프런티어 출력\n",
    "    plt.text(result['tan_var'] ** .5, result['tan_mean'], 'tangent', verticalalignment='center', color=color)\n",
    "    plt.scatter(result['tan_var'] ** .5, result['tan_mean'], marker='o', color=color)\n",
    "    plt.plot(result['eff_var'] ** .5, result['eff_mean'], label=label, color=color, linewidth=2, marker='D', markersize=9)"
   ]
  },
  {
   "cell_type": "code",
   "execution_count": 295,
   "metadata": {},
   "outputs": [
    {
     "name": "stderr",
     "output_type": "stream",
     "text": [
      "/opt/conda/lib/python3.7/site-packages/matplotlib/backends/backend_agg.py:238: RuntimeWarning: Glyph 53076 missing from current font.\n",
      "  font.set_text(s, 0.0, flags=flags)\n",
      "/opt/conda/lib/python3.7/site-packages/matplotlib/backends/backend_agg.py:238: RuntimeWarning: Glyph 49828 missing from current font.\n",
      "  font.set_text(s, 0.0, flags=flags)\n",
      "/opt/conda/lib/python3.7/site-packages/matplotlib/backends/backend_agg.py:238: RuntimeWarning: Glyph 54588 missing from current font.\n",
      "  font.set_text(s, 0.0, flags=flags)\n",
      "/opt/conda/lib/python3.7/site-packages/matplotlib/backends/backend_agg.py:238: RuntimeWarning: Glyph 54644 missing from current font.\n",
      "  font.set_text(s, 0.0, flags=flags)\n",
      "/opt/conda/lib/python3.7/site-packages/matplotlib/backends/backend_agg.py:238: RuntimeWarning: Glyph 50808 missing from current font.\n",
      "  font.set_text(s, 0.0, flags=flags)\n",
      "/opt/conda/lib/python3.7/site-packages/matplotlib/backends/backend_agg.py:238: RuntimeWarning: Glyph 52292 missing from current font.\n",
      "  font.set_text(s, 0.0, flags=flags)\n",
      "/opt/conda/lib/python3.7/site-packages/matplotlib/backends/backend_agg.py:238: RuntimeWarning: Glyph 44428 missing from current font.\n",
      "  font.set_text(s, 0.0, flags=flags)\n",
      "/opt/conda/lib/python3.7/site-packages/matplotlib/backends/backend_agg.py:238: RuntimeWarning: Glyph 50896 missing from current font.\n",
      "  font.set_text(s, 0.0, flags=flags)\n",
      "/opt/conda/lib/python3.7/site-packages/matplotlib/backends/backend_agg.py:238: RuntimeWarning: Glyph 50976 missing from current font.\n",
      "  font.set_text(s, 0.0, flags=flags)\n",
      "/opt/conda/lib/python3.7/site-packages/matplotlib/backends/backend_agg.py:238: RuntimeWarning: Glyph 44397 missing from current font.\n",
      "  font.set_text(s, 0.0, flags=flags)\n",
      "/opt/conda/lib/python3.7/site-packages/matplotlib/backends/backend_agg.py:238: RuntimeWarning: Glyph 45236 missing from current font.\n",
      "  font.set_text(s, 0.0, flags=flags)\n",
      "/opt/conda/lib/python3.7/site-packages/matplotlib/backends/backend_agg.py:238: RuntimeWarning: Glyph 50864 missing from current font.\n",
      "  font.set_text(s, 0.0, flags=flags)\n",
      "/opt/conda/lib/python3.7/site-packages/matplotlib/backends/backend_agg.py:238: RuntimeWarning: Glyph 47049 missing from current font.\n",
      "  font.set_text(s, 0.0, flags=flags)\n",
      "/opt/conda/lib/python3.7/site-packages/matplotlib/backends/backend_agg.py:238: RuntimeWarning: Glyph 54924 missing from current font.\n",
      "  font.set_text(s, 0.0, flags=flags)\n",
      "/opt/conda/lib/python3.7/site-packages/matplotlib/backends/backend_agg.py:238: RuntimeWarning: Glyph 49324 missing from current font.\n",
      "  font.set_text(s, 0.0, flags=flags)\n",
      "/opt/conda/lib/python3.7/site-packages/matplotlib/backends/backend_agg.py:201: RuntimeWarning: Glyph 53076 missing from current font.\n",
      "  font.set_text(s, 0, flags=flags)\n",
      "/opt/conda/lib/python3.7/site-packages/matplotlib/backends/backend_agg.py:201: RuntimeWarning: Glyph 49828 missing from current font.\n",
      "  font.set_text(s, 0, flags=flags)\n",
      "/opt/conda/lib/python3.7/site-packages/matplotlib/backends/backend_agg.py:201: RuntimeWarning: Glyph 54588 missing from current font.\n",
      "  font.set_text(s, 0, flags=flags)\n",
      "/opt/conda/lib/python3.7/site-packages/matplotlib/backends/backend_agg.py:201: RuntimeWarning: Glyph 54644 missing from current font.\n",
      "  font.set_text(s, 0, flags=flags)\n",
      "/opt/conda/lib/python3.7/site-packages/matplotlib/backends/backend_agg.py:201: RuntimeWarning: Glyph 50808 missing from current font.\n",
      "  font.set_text(s, 0, flags=flags)\n",
      "/opt/conda/lib/python3.7/site-packages/matplotlib/backends/backend_agg.py:201: RuntimeWarning: Glyph 52292 missing from current font.\n",
      "  font.set_text(s, 0, flags=flags)\n",
      "/opt/conda/lib/python3.7/site-packages/matplotlib/backends/backend_agg.py:201: RuntimeWarning: Glyph 44428 missing from current font.\n",
      "  font.set_text(s, 0, flags=flags)\n",
      "/opt/conda/lib/python3.7/site-packages/matplotlib/backends/backend_agg.py:201: RuntimeWarning: Glyph 50896 missing from current font.\n",
      "  font.set_text(s, 0, flags=flags)\n",
      "/opt/conda/lib/python3.7/site-packages/matplotlib/backends/backend_agg.py:201: RuntimeWarning: Glyph 50976 missing from current font.\n",
      "  font.set_text(s, 0, flags=flags)\n",
      "/opt/conda/lib/python3.7/site-packages/matplotlib/backends/backend_agg.py:201: RuntimeWarning: Glyph 44397 missing from current font.\n",
      "  font.set_text(s, 0, flags=flags)\n",
      "/opt/conda/lib/python3.7/site-packages/matplotlib/backends/backend_agg.py:201: RuntimeWarning: Glyph 45236 missing from current font.\n",
      "  font.set_text(s, 0, flags=flags)\n",
      "/opt/conda/lib/python3.7/site-packages/matplotlib/backends/backend_agg.py:201: RuntimeWarning: Glyph 50864 missing from current font.\n",
      "  font.set_text(s, 0, flags=flags)\n",
      "/opt/conda/lib/python3.7/site-packages/matplotlib/backends/backend_agg.py:201: RuntimeWarning: Glyph 47049 missing from current font.\n",
      "  font.set_text(s, 0, flags=flags)\n",
      "/opt/conda/lib/python3.7/site-packages/matplotlib/backends/backend_agg.py:201: RuntimeWarning: Glyph 54924 missing from current font.\n",
      "  font.set_text(s, 0, flags=flags)\n",
      "/opt/conda/lib/python3.7/site-packages/matplotlib/backends/backend_agg.py:201: RuntimeWarning: Glyph 49324 missing from current font.\n",
      "  font.set_text(s, 0, flags=flags)\n"
     ]
    },
    {
     "data": {
      "image/png": "[encoded data removed]",
      "text/plain": [
       "<Figure size 864x720 with 1 Axes>"
      ]
     },
     "metadata": {
      "needs_background": "light"
     },
     "output_type": "display_data"
    }
   ],
   "source": [
    "# 1번째 최적화 결과를 차트로 출력\n",
    "plotAssets(tickers, R, C, color='blue')\n",
    "plotFrontier(opt1, label='Historical returns', color='blue')\n",
    "\n",
    "# 2번째 최적화 결과를 차트로 출력\n",
    "plotAssets(tickers, pi+rf, C, color='green')\n",
    "plotFrontier(opt2, label='Implied returns', color='green')\n",
    "\n",
    "# 3번째 최적화 결과를 차트로 출력\n",
    "plotAssets(tickers, pi_adj+rf, C, color='red')\n",
    "plotFrontier(opt3, label='Implied returns (adjusted views)', color='red')\n",
    "\n",
    "# 차트에 공통된 속성을 지정한다(차트크기, 제목, 범례, 축이름 등)\n",
    "plt.rcParams[\"figure.figsize\"] = (15, 10)\n",
    "plt.grid(alpha=0.3, color='gray', linestyle='--', linewidth=1)\n",
    "plt.title('Portfolio optimization')\n",
    "plt.legend(['Historical returns(blue)', 'Implied returns(green)','Implied returns with adjusted views(red)'])\n",
    "plt.xlabel('Variance $\\sigma$')\n",
    "plt.ylabel('Mean $\\mu$')\n",
    "plt.show()"
   ]
  },
  {
   "cell_type": "code",
   "execution_count": null,
   "metadata": {},
   "outputs": [],
   "source": []
  }
 ],
 "metadata": {
  "kernelspec": {
   "display_name": "Python 3",
   "language": "python",
   "name": "python3"
  },
  "language_info": {
   "codemirror_mode": {
    "name": "ipython",
    "version": 3
   },
   "file_extension": ".py",
   "mimetype": "text/x-python",
   "name": "python",
   "nbconvert_exporter": "python",
   "pygments_lexer": "ipython3",
   "version": "3.7.7"
  }
 },
 "nbformat": 4,
 "nbformat_minor": 4
}
